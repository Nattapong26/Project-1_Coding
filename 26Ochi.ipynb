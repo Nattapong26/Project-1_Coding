{
  "nbformat": 4,
  "nbformat_minor": 0,
  "metadata": {
    "colab": {
      "provenance": [],
      "authorship_tag": "ABX9TyMx3n7+avIsJ2FdG/BnHqYg",
      "include_colab_link": true
    },
    "kernelspec": {
      "name": "python3",
      "display_name": "Python 3"
    },
    "language_info": {
      "name": "python"
    }
  },
  "cells": [
    {
      "cell_type": "markdown",
      "metadata": {
        "id": "view-in-github",
        "colab_type": "text"
      },
      "source": [
        "<a href=\"https://colab.research.google.com/github/Nattapong26/Project-1_Coding/blob/main/26Ochi.ipynb\" target=\"_parent\"><img src=\"https://colab.research.google.com/assets/colab-badge.svg\" alt=\"Open In Colab\"/></a>"
      ]
    },
    {
      "cell_type": "markdown",
      "source": [
        "## เลขที่26 โอชิ ณัฐพงศ์ ทาศรีงาม\n",
        "No.26 OCHI Nattapong Thasringam"
      ],
      "metadata": {
        "id": "XtyCuNnNcqPk"
      }
    },
    {
      "cell_type": "markdown",
      "source": [
        "##20 พฤษภาคม 2567\n"
      ],
      "metadata": {
        "id": "q7yRzGh8CY55"
      }
    },
    {
      "cell_type": "code",
      "source": [
        "print('4/4')"
      ],
      "metadata": {
        "colab": {
          "base_uri": "https://localhost:8080/"
        },
        "id": "DA2UEhlGAyJQ",
        "outputId": "cd62d623-7f32-42b9-b7fa-4962ddfeda86"
      },
      "execution_count": null,
      "outputs": [
        {
          "output_type": "stream",
          "name": "stdout",
          "text": [
            "4/4\n"
          ]
        }
      ]
    },
    {
      "cell_type": "code",
      "source": [
        "print(\"4/4\")"
      ],
      "metadata": {
        "colab": {
          "base_uri": "https://localhost:8080/"
        },
        "id": "mva2smSDBjJB",
        "outputId": "0052a38c-4559-4763-ce72-4841c092c542"
      },
      "execution_count": null,
      "outputs": [
        {
          "output_type": "stream",
          "name": "stdout",
          "text": [
            "4/4\n"
          ]
        }
      ]
    },
    {
      "cell_type": "code",
      "source": [
        "print(\"โอชิ มุฮะๆ สวัสดีครับครู\")"
      ],
      "metadata": {
        "colab": {
          "base_uri": "https://localhost:8080/"
        },
        "id": "iL6HD5b_BvoZ",
        "outputId": "e7a97e54-f644-4c81-ca73-a5228a76c5ce"
      },
      "execution_count": null,
      "outputs": [
        {
          "output_type": "stream",
          "name": "stdout",
          "text": [
            "โอชิ มุฮะๆ สวัสดีครับครู\n"
          ]
        }
      ]
    },
    {
      "cell_type": "code",
      "source": [
        "Birthday = 25\n",
        "print('ฉันเกิดวันที่25ธันวาคม')"
      ],
      "metadata": {
        "colab": {
          "base_uri": "https://localhost:8080/"
        },
        "id": "Z6ewEfXNEK5M",
        "outputId": "2f27746c-f075-414f-f980-4e145984a6e0"
      },
      "execution_count": null,
      "outputs": [
        {
          "output_type": "stream",
          "name": "stdout",
          "text": [
            "ฉันเกิดวันที่25ธันวาคม\n"
          ]
        }
      ]
    },
    {
      "cell_type": "markdown",
      "source": [
        "## 29/5/67 สรุปความคิดวันนี้\n",
        "##\n",
        "##ได้เรียนเกี่ยวกับคำสั่งแสดงประเภทของข้อมูล คือ type"
      ],
      "metadata": {
        "id": "oXy7aPHvhLR2"
      }
    },
    {
      "cell_type": "code",
      "source": [
        "a =2\n",
        "b = 1.5\n",
        "c = \"OCHI\"\n",
        "\n",
        "type(c)\n",
        "\n",
        "print(\"ตัวแปลของผมคือ\")"
      ],
      "metadata": {
        "colab": {
          "base_uri": "https://localhost:8080/"
        },
        "id": "d_vCKukHY1yG",
        "outputId": "d9f20e7b-58c8-427c-cfb2-e69eed425a61"
      },
      "execution_count": null,
      "outputs": [
        {
          "output_type": "stream",
          "name": "stdout",
          "text": [
            "ตัวแปลของผมคือ\n"
          ]
        }
      ]
    },
    {
      "cell_type": "code",
      "source": [
        "numeric1 = 5\n",
        "print(numeric1)\n",
        "type(numeric1)"
      ],
      "metadata": {
        "colab": {
          "base_uri": "https://localhost:8080/"
        },
        "id": "urJSglN-kRtW",
        "outputId": "4937c303-4f4c-4d46-ea24-0428e8c01dd4"
      },
      "execution_count": null,
      "outputs": [
        {
          "output_type": "stream",
          "name": "stdout",
          "text": [
            "5\n"
          ]
        },
        {
          "output_type": "execute_result",
          "data": {
            "text/plain": [
              "int"
            ]
          },
          "metadata": {},
          "execution_count": 25
        }
      ]
    },
    {
      "cell_type": "markdown",
      "source": [
        "## 5/6/67\n",
        "## Data Structure มี2ประเภท คือ Basic / Composite\n",
        "## Basic แบ่งออกเป็น2ประเภท คือ Numenic กับ String\n",
        "## สรุปการเรียนรู้เรื่อง index ของค่า Python จะเริ่มนับตั่งแต่ง0 ถ้าเป็นค่าย้อนกลับจะเริ่มนับตั้งแต่ -6\n",
        "##จากโจทย์นักเรียนระบุความสัมพันธ์ของคอมพิวเตอร์กับการเขียนโปรแกรมโดยโจทย์ ดังกล่าวได้\n",
        "-input คือ การที่เราป้อนข้อมูลที่โปรแกรมต้องการจะทำ เช่น string1 = 'Python'\n",
        "-process คือ การที่เราออกคำสั่งให้โปรแกรมทำงานตามที่เราได้เขียนลงไป เช่น print(string1[0])\n",
        "-Output  คือ ผลรับที่ได้จากการที่เราเขียนโปรแกรมเสร็จแล้ว เช่น P\n",
        "             "
      ],
      "metadata": {
        "id": "hzvi1C_zWjzW"
      }
    },
    {
      "cell_type": "code",
      "source": [
        "string1 ='Python'\n",
        "print(string1[0])"
      ],
      "metadata": {
        "colab": {
          "base_uri": "https://localhost:8080/",
          "height": 166
        },
        "id": "kuALbzQlb9He",
        "outputId": "e3db198e-7c84-43e1-db45-3bc22a59d2a0"
      },
      "execution_count": null,
      "outputs": [
        {
          "output_type": "error",
          "ename": "TypeError",
          "evalue": "'str' object is not callable",
          "traceback": [
            "\u001b[0;31m---------------------------------------------------------------------------\u001b[0m",
            "\u001b[0;31mTypeError\u001b[0m                                 Traceback (most recent call last)",
            "\u001b[0;32m<ipython-input-16-4b0582af6d95>\u001b[0m in \u001b[0;36m<cell line: 2>\u001b[0;34m()\u001b[0m\n\u001b[1;32m      1\u001b[0m \u001b[0mstring1\u001b[0m \u001b[0;34m=\u001b[0m\u001b[0;34m'Python'\u001b[0m\u001b[0;34m\u001b[0m\u001b[0;34m\u001b[0m\u001b[0m\n\u001b[0;32m----> 2\u001b[0;31m \u001b[0mprint\u001b[0m\u001b[0;34m(\u001b[0m\u001b[0mstring1\u001b[0m\u001b[0;34m[\u001b[0m\u001b[0;36m0\u001b[0m\u001b[0;34m]\u001b[0m\u001b[0;34m)\u001b[0m\u001b[0;34m\u001b[0m\u001b[0;34m\u001b[0m\u001b[0m\n\u001b[0m",
            "\u001b[0;31mTypeError\u001b[0m: 'str' object is not callable"
          ]
        }
      ]
    },
    {
      "cell_type": "markdown",
      "source": [
        "## 26/6/67\n",
        "#input\n",
        "-ตัวแปล คือ ตัวพักข้อมูลหรือตัวเก็บข้อมูล เพื่อนำไปใช้ในส่วนต่างๆของโปรแกรม\n",
        "-string คือ เครื่องหมายคำพูด(\" \")\n",
        "-ถ้าอยากจะขึ้นบรรทัดใหม่ให้ใช้ /\n",
        "int คือ จำนวนเต็ม\n"
      ],
      "metadata": {
        "id": "4fuY0y68tzZ_"
      }
    },
    {
      "cell_type": "code",
      "source": [
        "name = input (\"Hello My name is\")\n",
        "print(name)"
      ],
      "metadata": {
        "colab": {
          "base_uri": "https://localhost:8080/"
        },
        "id": "WU1l4DfJugEf",
        "outputId": "3dea6e50-33ce-4b6d-cd8d-a8f1c2a89592"
      },
      "execution_count": null,
      "outputs": [
        {
          "output_type": "stream",
          "name": "stdout",
          "text": [
            "Hello My name is OCHI\n",
            " OCHI\n"
          ]
        }
      ]
    },
    {
      "cell_type": "code",
      "source": [
        "sind = int(input(\"คือความยาวด้าน(ซม.) คือ \"))\n",
        "\n",
        "area = sind * sind\n",
        "\n",
        "print(\"พื้นที่สี่เหลี่ยม เท่ากับ \", area, \"ตร.ซม.\" )\n"
      ],
      "metadata": {
        "colab": {
          "base_uri": "https://localhost:8080/"
        },
        "id": "g1iSh9xgy6Ag",
        "outputId": "0a7d824d-cd37-4282-ced1-0ac0bae4ff42"
      },
      "execution_count": null,
      "outputs": [
        {
          "output_type": "stream",
          "name": "stdout",
          "text": [
            "คือความยาวด้าน(ซม.) คือ 8\n",
            "พื้นที่สี่เหลี่ยม เท่ากับ  64 ตร.ซม.\n"
          ]
        }
      ]
    },
    {
      "cell_type": "markdown",
      "source": [
        "## 1/7/67\n"
      ],
      "metadata": {
        "id": "DvQrfYoOO1TQ"
      }
    },
    {
      "cell_type": "code",
      "source": [
        "width = int(input(\"คือ ความยาวด้านยาว(ซม.) คือ\"))\n",
        "length = int(input(\"คือ ความยาวด้านกว้าง(ซม.) คือ\"))\n",
        "\n",
        "area = width * length\n",
        "\n",
        "print(\"พื้นที่สี่เหลี่ยมพื้นผ้า เท่ากับ \" , area, \"ตร.ซม.\")\n"
      ],
      "metadata": {
        "colab": {
          "base_uri": "https://localhost:8080/"
        },
        "id": "SflPp3WwPvh4",
        "outputId": "6de1a36f-69bf-4fe9-b03f-0c584c9f0e46"
      },
      "execution_count": null,
      "outputs": [
        {
          "output_type": "stream",
          "name": "stdout",
          "text": [
            "คือ ความยาวด้านยาว(ซม.) คือ50\n",
            "คือ ความยาวด้านกว้าง(ซม.) คือ30\n",
            "พื้นที่สี่เหลี่ยมพื้นผ้า เท่ากับ  1500 ตร.ซม.\n"
          ]
        }
      ]
    },
    {
      "cell_type": "code",
      "source": [
        "time = int(input(\" คือเวลา (วินาที) คือ \"))\n",
        "speed= int(input(\" คือ ระยะทาง (m/s) คือ \"))\n",
        "distance = speed/time\n",
        "print(\"การเคลื่อนที่แนวตรง เท่ากับ \" , distance, \"m/s\")"
      ],
      "metadata": {
        "colab": {
          "base_uri": "https://localhost:8080/"
        },
        "id": "fRs49aCNWMc9",
        "outputId": "0f5a919d-0aa8-4359-e97b-746248dc731a"
      },
      "execution_count": null,
      "outputs": [
        {
          "output_type": "stream",
          "name": "stdout",
          "text": [
            " คือเวลา (วินาที) คือ5\n",
            " คือ ระยะทาง (m/s) คือ10\n",
            "การเคลื่อนที่แนวตรง เท่ากับ  2.0 m/s\n"
          ]
        }
      ]
    },
    {
      "cell_type": "code",
      "source": [
        "print(\"จัดทำโดย โอชิตัน\")\n",
        "name=input(\"สวัดดีครับ\")\n",
        "print(\"progarm find bmi by Borladoss\")\n",
        "weight = float(input(\"คือ น้ำหนัก (kg) \"))\n",
        "height = float(input(\" คือ ส่วนสูง (cm) \"))\n",
        "\n",
        "bmi = weight/height**2\n",
        "\n",
        "print(bmi)\n",
        "print(\"\\nดัชนีมวลกาย คือ \" , bmi)\n"
      ],
      "metadata": {
        "colab": {
          "base_uri": "https://localhost:8080/"
        },
        "id": "Jz-k_mLHZNck",
        "outputId": "8bc072b4-890b-4575-9af3-8fe40517b27d"
      },
      "execution_count": null,
      "outputs": [
        {
          "output_type": "stream",
          "name": "stdout",
          "text": [
            "จัดทำโดย โอชิตัน\n",
            "สวัดดีครับochi\n",
            "progarm find bmi by Borladoss\n",
            "คือ น้ำหนัก (kg) 50\n",
            " คือ ส่วนสูง (cm) 5632\n",
            "1.576321184142562e-06\n",
            "\n",
            "ดัชนีมวลกาย คือ  1.576321184142562e-06\n"
          ]
        }
      ]
    },
    {
      "cell_type": "markdown",
      "source": [
        "เงื่อนไขของBMI\n",
        "\n",
        "ถ้า BMI น้อยกว่า 18.5 แปลผล คือ ต่ำกว่าเกณฑ์ แนะนำ คือ ควรกินให้มากๆ ทำให้สมส่วน\n",
        "ถ้า BMI เท่ากับ (อยู่ระหว่าง) 18.5-22.9 แปลผล คือ สมส่วน หรือ ตามเกณฑ์\n",
        "ถ้า BMI มากกว่า 22.9 แปลผล คือ เกินเเกณฑ์"
      ],
      "metadata": {
        "id": "16MWMVPHiWOh"
      }
    }
  ]
}